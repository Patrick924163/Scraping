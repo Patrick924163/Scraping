{
 "cells": [
  {
   "cell_type": "code",
   "execution_count": 1,
   "metadata": {},
   "outputs": [],
   "source": [
    "import numpy as np\n",
    "import pandas as pd\n",
    "from time import sleep\n",
    "from selenium import webdriver\n",
    "from datetime import datetime,timedelta\n",
    "from selenium.webdriver.common.keys import Keys"
   ]
  },
  {
   "cell_type": "code",
   "execution_count": 2,
   "metadata": {},
   "outputs": [],
   "source": [
    "import requests\n",
    "import re\n",
    "from bs4 import BeautifulSoup"
   ]
  },
  {
   "cell_type": "code",
   "execution_count": 29,
   "metadata": {},
   "outputs": [],
   "source": [
    "dt=pd.read_excel(r\"C:\\Users\\patrick kamga\\Liste Communes officielles.xlsx\")     # A modifier\n",
    "dat=dt['Population légale']>=1000\n",
    "data_f=dt[dat]\n",
    "nan = dt.index[dt.isnull().any(axis=1)]\n",
    "dt.drop(nan,0, inplace=True)\n",
    "colonne=data_f.columns\n",
    "df_x = pd.DataFrame(data= data_f,columns=colonne)\n",
    "donnee=df_x.to_numpy()\n",
    "commune=[]\n",
    "for i in range(len(donnee)):\n",
    "    d=donnee[i][2]\n",
    "    commune.append(d)\n",
    "vil=data_f['Libellé']\n",
    "vil=vil.to_numpy()\n",
    "ville=[]\n",
    "for i in range(len(vil)):\n",
    "    ville.append(vil[i])"
   ]
  },
  {
   "cell_type": "code",
   "execution_count": 69,
   "metadata": {},
   "outputs": [
    {
     "data": {
      "text/plain": [
       "'FRENEUSE'"
      ]
     },
     "execution_count": 69,
     "metadata": {},
     "output_type": "execute_result"
    }
   ],
   "source": [
    "ville[2701]"
   ]
  },
  {
   "cell_type": "code",
   "execution_count": 3,
   "metadata": {},
   "outputs": [],
   "source": [
    "ville=['HERGNIES','ST GEORGES DE RENEINS','FRENEUSE']"
   ]
  },
  {
   "cell_type": "code",
   "execution_count": 4,
   "metadata": {},
   "outputs": [],
   "source": [
    "driver = webdriver.Firefox(executable_path=r'C:\\Users\\patrick kamga\\geckodriver.exe')     # A modifier\n",
    "driver.get(\"https://fr.getaround.com/\")\n",
    "driver.maximize_window()\n",
    "sleep(5)\n",
    "accepter=driver.find_element_by_xpath('//*[@class=\"cobalt-Button cobalt-Button--inversed cobalt-Button--fullWidth\"]')\n",
    "accepter.click()\n",
    "liste=[]\n",
    "liste_s=[]\n",
    "compteur=0\n",
    "for i in range(len(ville)):\n",
    "    url='Gare de '+ ville[i]\n",
    "    #ville='Gare de marseille'\n",
    "    if compteur==0:\n",
    "        t=timedelta(days=14)\n",
    "        #t_demain=timedelta(days=1)\n",
    "        t_demain=timedelta(days=15)\n",
    "        #temps=str(datetime.now())[:10]                        # date d'aujourd'hui //à modifier le moment venu\n",
    "        temps_weeks=str(datetime.now()+t)[:10]               # date dans 02 semaines\n",
    "        temps_weeks_jour=str(datetime.now()+t_demain)[:10]            # date dans 02 semaines et un jour\n",
    "        search_bar_ville=driver.find_element_by_xpath('//*[@id=\"order_address\"]')          #barre de recherche des villes\n",
    "        search_bar_ville.click()\n",
    "        search_bar_ville.send_keys(url)           #envoie de la requête dans la barre \n",
    "        sleep(10)\n",
    "        ville_search=driver.find_elements_by_xpath('//*[@class=\"cobalt-Autocomplete__item-value\"]')\n",
    "        #ville_propose=[vil.text for vil in ville_search]\n",
    "        if len(ville_search)!=1:\n",
    "            ville_search[1].click()\n",
    "        else:\n",
    "            voiture={}\n",
    "            voiture['ville']=ville[i]\n",
    "            voiture['commentaire']='Oups ! pas assez précis la recherche'\n",
    "            active=ville[i]\n",
    "            liste_s.append(voiture)\n",
    "            driver.find_element_by_xpath('//*[@class=\"cobalt-Autocomplete__clear-button\"]').click()\n",
    "            continue\n",
    "        sleep(2)\n",
    "        link_date=driver.find_elements_by_xpath('//*[@class=\"datetime_input_date_wrapper datetime_input js_date_input is_active\"]')   #bar date\n",
    "        link_date[0].click()\n",
    "        sleep(2)\n",
    "        date_prev=driver.find_elements_by_xpath('//*[@class=\"cobalt-CalendarRangePicker__day-inner\"]')   #date d'aujourd'hui\n",
    "        #ind=int(temps[8:10])-1\n",
    "        ind=int(temps_weeks[8:10])-1\n",
    "        date_prev[ind].click()\n",
    "        sleep(2)\n",
    "        time=driver.find_elements_by_xpath('//*[@class=\"time_picker_entry js_time js_enabled_time\"]')\n",
    "        hr=int(str(datetime.now())[11:13])+1\n",
    "        if hr<10:\n",
    "            hr=str(hr)\n",
    "            indice=[tim.text for tim in time].index('0'+hr+':00')\n",
    "            time[indice].click()\n",
    "        else:\n",
    "            hr=str(hr)\n",
    "            indice=[tim.text for tim in time].index(hr+':00')\n",
    "            time[indice].click()\n",
    "        sleep(2)\n",
    "        date_next=driver.find_elements_by_xpath('//*[@class=\"cobalt-CalendarRangePicker__day\"]')\n",
    "        last_day=driver.find_elements_by_xpath('//*[@class=\"cobalt-CalendarRangePicker__day cobalt-CalendarRangePicker__day--lastOfMonth\"]')\n",
    "        first_day=driver.find_elements_by_xpath('//*[@class=\"cobalt-CalendarRangePicker__day cobalt-CalendarRangePicker__day--firstOfMonth\"]')\n",
    "        date=[date.get_attribute(\"data-day\") for date in date_next]\n",
    "        for first in first_day:\n",
    "            date.append(first.get_attribute(\"data-day\"))\n",
    "        for last in last_day:\n",
    "            date.append(last.get_attribute(\"data-day\"))\n",
    "        sleep(2)\n",
    "        #indice1=date.index(temps_weeks)\n",
    "        indice1=date.index(temps_weeks_jour)\n",
    "        if indice1==len(date)-1:\n",
    "            last_day.click()\n",
    "        elif indice1==len(date)-2:\n",
    "            first_day.click()\n",
    "        else:\n",
    "            date_next[indice1].click()\n",
    "        sleep(2)\n",
    "        time[indice].click()\n",
    "        rechercher=driver.find_element_by_xpath('//*[@class=\"cobalt-Button cobalt-Button--primary js_search_form_submit\"]').click()\n",
    "        sleep(2)\n",
    "    if compteur==1:\n",
    "        driver.find_element_by_xpath('//*[@class=\"cobalt-Autocomplete__clear-button\"]').click()\n",
    "        search_bar=driver.find_element_by_xpath('//*[@id=\"search_form_address\"]')\n",
    "        search_bar.send_keys(url)\n",
    "        sleep(10)\n",
    "        ville_search=driver.find_elements_by_xpath('//*[@class=\"cobalt-Autocomplete__item-value\"]')\n",
    "        if len(ville_search)!=1:\n",
    "            ville_search[1].click()\n",
    "            sleep(5)\n",
    "        else:\n",
    "            voiture={}\n",
    "            voiture['ville']=ville[i]\n",
    "            voiture['commentaire']='Oups ! pas assez précis la recherche'\n",
    "            active=ville[i]\n",
    "            liste_s.append(voiture)\n",
    "            continue\n",
    "    compteur=1\n",
    "    nbre_page=driver.find_elements_by_xpath('//*[@class=\"cobalt-text-body cobalt-text--subdued\"]')\n",
    "    if len(nbre_page)!=0 and nbre_page[0].text!='':\n",
    "        nbre=nbre_page[0].text\n",
    "        n=int(nbre[-2:])\n",
    "        for j in range(n):\n",
    "            offers=driver.find_elements_by_xpath('//*[@class=\"car_card_revamp js_picks_car_card\"]')\n",
    "            for offer in offers:\n",
    "                offer.click()\n",
    "                sleep(5)\n",
    "                nom=driver.find_element_by_xpath('//*[@class=\"car_info_header__title js_car_name\"]')\n",
    "                distance=driver.find_element_by_xpath('//*[@class=\"car_info_header__attributes\"]')\n",
    "                prix=driver.find_element_by_xpath('//*[@class=\"js_price_value\"]')\n",
    "                recuperation=driver.find_element_by_xpath('//*[@class=\"cobalt-text-titleSmall\"]')\n",
    "                voiture={}\n",
    "                voiture['ville']=ville[i]\n",
    "                voiture['nom']=nom.text\n",
    "                voiture['prix']=prix.text\n",
    "                voiture['distance']=distance.text[:-13]\n",
    "                voiture['recuperation']=recuperation.text\n",
    "                active=ville[i]\n",
    "                liste.append(voiture)\n",
    "                driver.find_element_by_xpath('//*[@class=\"side_panel_close_button js_preview_panel_close hidden-xs\"]').click()\n",
    "                sleep(2)\n",
    "            suivant=driver.find_elements_by_xpath('//*[@class=\"cobalt-Button cobalt-Button--ghost cobalt-Button--standalone hidden-xs\"]')\n",
    "            if len(suivant)!=0 and suivant[-1].text =='Suivant':\n",
    "                suivant[-1].click()\n",
    "            elif suivant[-1].text =='Précédent'or len(suivant)==0:\n",
    "                break\n",
    "            sleep(5)\n",
    "    else:\n",
    "        offers=driver.find_elements_by_xpath('//*[@class=\"car_card_revamp js_picks_car_card\"]')\n",
    "        if len(offers)==0:\n",
    "            voiture={}\n",
    "            voiture['ville']=ville[i]\n",
    "            voiture['commentaire']='Oups ! Aucune voiture en libre-service pour le moment'\n",
    "            active=ville[i]\n",
    "            liste_s.append(voiture)\n",
    "        else:\n",
    "            for offer in offers:\n",
    "                sleep(3)\n",
    "                offer.click()\n",
    "                sleep(5)\n",
    "                nom=driver.find_element_by_xpath('//*[@class=\"car_info_header__title js_car_name\"]')\n",
    "                distance=driver.find_element_by_xpath('//*[@class=\"car_info_header__attributes\"]')\n",
    "                prix=driver.find_element_by_xpath('//*[@class=\"js_price_value\"]')\n",
    "                recuperation=driver.find_element_by_xpath('//*[@class=\"cobalt-text-titleSmall\"]')\n",
    "                voiture={}\n",
    "                voiture['ville']=ville[i]\n",
    "                voiture['nom']=nom.text\n",
    "                voiture['prix']=prix.text\n",
    "                voiture['distance']=distance.text[:-13]\n",
    "                voiture['recuperation']=recuperation.text\n",
    "                active=ville[i]\n",
    "                liste.append(voiture)\n",
    "                driver.find_element_by_xpath('//*[@class=\"side_panel_close_button js_preview_panel_close hidden-xs\"]').click()\n",
    "                sleep(2)"
   ]
  },
  {
   "cell_type": "code",
   "execution_count": 5,
   "metadata": {},
   "outputs": [
    {
     "data": {
      "text/plain": [
       "2"
      ]
     },
     "execution_count": 5,
     "metadata": {},
     "output_type": "execute_result"
    }
   ],
   "source": [
    "ville.index(active)"
   ]
  },
  {
   "cell_type": "code",
   "execution_count": 25,
   "metadata": {},
   "outputs": [
    {
     "data": {
      "text/plain": [
       "'FRENEUSE'"
      ]
     },
     "execution_count": 25,
     "metadata": {},
     "output_type": "execute_result"
    }
   ],
   "source": [
    "active"
   ]
  },
  {
   "cell_type": "code",
   "execution_count": 21,
   "metadata": {},
   "outputs": [
    {
     "data": {
      "text/plain": [
       "[{'ville': 'HERGNIES', 'commentaire': 'Oups ! pas assez précis la recherche'},\n",
       " {'ville': 'FRENEUSE', 'commentaire': 'Oups ! pas assez précis la recherche'}]"
      ]
     },
     "execution_count": 21,
     "metadata": {},
     "output_type": "execute_result"
    }
   ],
   "source": [
    "liste_s"
   ]
  },
  {
   "cell_type": "code",
   "execution_count": 22,
   "metadata": {},
   "outputs": [
    {
     "data": {
      "text/plain": [
       "[{'ville': 'ST GEORGES DE RENEINS',\n",
       "  'nom': 'Hyundai iX35',\n",
       "  'prix': '61€',\n",
       "  'distance': '6,46 km ',\n",
       "  'recuperation': 'Sur rendez-vous'},\n",
       " {'ville': 'ST GEORGES DE RENEINS',\n",
       "  'nom': 'Renault Twingo',\n",
       "  'prix': '40€',\n",
       "  'distance': '8,35 km ',\n",
       "  'recuperation': 'Sur rendez-vous'},\n",
       " {'ville': 'ST GEORGES DE RENEINS',\n",
       "  'nom': 'Peugeot 508',\n",
       "  'prix': '78€',\n",
       "  'distance': '5,33 km ',\n",
       "  'recuperation': 'Sur rendez-vous'},\n",
       " {'ville': 'ST GEORGES DE RENEINS',\n",
       "  'nom': 'Mazda 3',\n",
       "  'prix': '61€',\n",
       "  'distance': '5,05 km ',\n",
       "  'recuperation': 'Sur rendez-vous'},\n",
       " {'ville': 'ST GEORGES DE RENEINS',\n",
       "  'nom': 'Audi A6',\n",
       "  'prix': '140€',\n",
       "  'distance': '8,37 km ',\n",
       "  'recuperation': 'Sur rendez-vous'},\n",
       " {'ville': 'ST GEORGES DE RENEINS',\n",
       "  'nom': 'Opel Corsa',\n",
       "  'prix': '39€',\n",
       "  'distance': '5,9 km ',\n",
       "  'recuperation': 'Sur rendez-vous'},\n",
       " {'ville': 'ST GEORGES DE RENEINS',\n",
       "  'nom': 'Peugeot 207',\n",
       "  'prix': '74€',\n",
       "  'distance': '8,85 km ',\n",
       "  'recuperation': 'Sur rendez-vous'},\n",
       " {'ville': 'ST GEORGES DE RENEINS',\n",
       "  'nom': 'Opel Meriva',\n",
       "  'prix': '42€',\n",
       "  'distance': '8,27 km ',\n",
       "  'recuperation': 'Sur rendez-vous'},\n",
       " {'ville': 'ST GEORGES DE RENEINS',\n",
       "  'nom': 'Volkswagen Polo',\n",
       "  'prix': '91€',\n",
       "  'distance': '8,85 km ',\n",
       "  'recuperation': 'Sur rendez-vous'},\n",
       " {'ville': 'ST GEORGES DE RENEINS',\n",
       "  'nom': 'Mercedes Classe A',\n",
       "  'prix': '79€',\n",
       "  'distance': '7,91 km ',\n",
       "  'recuperation': 'Sur rendez-vous'},\n",
       " {'ville': 'ST GEORGES DE RENEINS',\n",
       "  'nom': 'Peugeot 308 SW',\n",
       "  'prix': '48€',\n",
       "  'distance': '7,29 km ',\n",
       "  'recuperation': 'Sur rendez-vous'},\n",
       " {'ville': 'ST GEORGES DE RENEINS',\n",
       "  'nom': 'Opel Corsa',\n",
       "  'prix': '31€',\n",
       "  'distance': '9,25 km ',\n",
       "  'recuperation': 'Sur rendez-vous'},\n",
       " {'ville': 'ST GEORGES DE RENEINS',\n",
       "  'nom': 'Volkswagen Golf',\n",
       "  'prix': '59€',\n",
       "  'distance': '5,66 km ',\n",
       "  'recuperation': 'Sur rendez-vous'},\n",
       " {'ville': 'ST GEORGES DE RENEINS',\n",
       "  'nom': 'Audi A3',\n",
       "  'prix': '32€',\n",
       "  'distance': '8,91 km ',\n",
       "  'recuperation': 'Sur rendez-vous'},\n",
       " {'ville': 'ST GEORGES DE RENEINS',\n",
       "  'nom': 'Volkswagen Golf GTD',\n",
       "  'prix': '124€',\n",
       "  'distance': '7,77 km ',\n",
       "  'recuperation': 'Sur rendez-vous'},\n",
       " {'ville': 'ST GEORGES DE RENEINS',\n",
       "  'nom': 'Mercedes Classe C Coupé',\n",
       "  'prix': '160€',\n",
       "  'distance': '8,21 km ',\n",
       "  'recuperation': 'Sur rendez-vous'},\n",
       " {'ville': 'ST GEORGES DE RENEINS',\n",
       "  'nom': 'Mercedes Classe A',\n",
       "  'prix': '105€',\n",
       "  'distance': '8,37 km ',\n",
       "  'recuperation': 'Sur rendez-vous'}]"
      ]
     },
     "execution_count": 22,
     "metadata": {},
     "output_type": "execute_result"
    }
   ],
   "source": [
    "liste"
   ]
  },
  {
   "cell_type": "code",
   "execution_count": 60,
   "metadata": {},
   "outputs": [
    {
     "data": {
      "text/plain": [
       "'690 m '"
      ]
     },
     "execution_count": 60,
     "metadata": {},
     "output_type": "execute_result"
    }
   ],
   "source": [
    "v=liste[28]\n",
    "v['distance'][:-13]"
   ]
  },
  {
   "cell_type": "code",
   "execution_count": 8,
   "metadata": {},
   "outputs": [],
   "source": [
    "with open('voiture.csv','w') as file:\n",
    "    file.write('commune,nom,prix,distance,recuperation\\n')\n",
    "    for i in range(len(liste)):\n",
    "        liste[i]['distance']=re.sub(\",\",\".\",liste[i]['distance'])\n",
    "        file.write(liste[i]['ville']+ ',' +liste[i]['nom'] + ',' + liste[i]['prix'] + ',' + liste[i]['distance'] + ',' + liste[i]['recuperation']+'\\n')"
   ]
  },
  {
   "cell_type": "code",
   "execution_count": 18,
   "metadata": {},
   "outputs": [],
   "source": [
    "driver = webdriver.Firefox(executable_path=r'C:\\Users\\patrick kamga\\geckodriver.exe')     # A modifier\n",
    "driver.get(\"https://fr.getaround.com/\")\n",
    "driver.maximize_window()\n",
    "sleep(5)\n",
    "accepter=driver.find_element_by_xpath('//*[@class=\"cobalt-Button cobalt-Button--inversed cobalt-Button--fullWidth\"]')\n",
    "accepter.click()\n",
    "ville='Gare de paris 20'\n",
    "liste=[]\n",
    "t=timedelta(days=14)\n",
    "t_demain=timedelta(days=15)\n",
    "#temps=str(datetime.now())[:10]                        # date d'aujourd'hui\n",
    "temps_weeks=str(datetime.now()+t)[:10]               # date dans 02 semaines\n",
    "temps_weeks_jour=str(datetime.now()+t_demain)[:10]            # date dans 02 semaines et un jour\n",
    "search_bar_ville=driver.find_element_by_xpath('//*[@id=\"order_address\"]')          #barre de recherche des villes\n",
    "search_bar_ville.click()\n",
    "search_bar_ville.send_keys(ville)\n",
    "sleep(10)\n",
    "ville_search=driver.find_elements_by_xpath('//*[@class=\"cobalt-Autocomplete__item-value\"]')\n",
    "#ville_propose=[vil.text for vil in ville_search]\n",
    "if len(ville_search)!=0:\n",
    "    ville_search[1].click()\n",
    "else:\n",
    "    ## A revoir\n",
    "    print(ville)\n",
    "sleep(5)\n",
    "link_date=driver.find_elements_by_xpath('//*[@class=\"datetime_input_date_wrapper datetime_input js_date_input is_active\"]')   #bar date\n",
    "link_date[0].click()\n",
    "sleep(5)\n",
    "date_prev=driver.find_elements_by_xpath('//*[@class=\"cobalt-CalendarRangePicker__day-inner\"]')   #date d'aujourd'hui\n",
    "ind=int(temps_weeks[8:10])-1  # à voir\n",
    "date_prev[ind].click()\n",
    "sleep(5)\n",
    "time=driver.find_elements_by_xpath('//*[@class=\"time_picker_entry js_time js_enabled_time\"]')\n",
    "hr=int(str(datetime.now())[11:13])+1\n",
    "if hr<10:\n",
    "    hr=str(hr)\n",
    "    indice=[tim.text for tim in time].index('0'+hr+':00')\n",
    "    time[indice].click()\n",
    "else:\n",
    "    hr=str(hr)\n",
    "    indice=[tim.text for tim in time].index(hr+':00')\n",
    "    time[indice].click()\n",
    "sleep(5)\n",
    "date_next=driver.find_elements_by_xpath('//*[@class=\"cobalt-CalendarRangePicker__day\"]')\n",
    "last_day=driver.find_elements_by_xpath('//*[@class=\"cobalt-CalendarRangePicker__day cobalt-CalendarRangePicker__day--lastOfMonth\"]')\n",
    "first_day=driver.find_elements_by_xpath('//*[@class=\"cobalt-CalendarRangePicker__day cobalt-CalendarRangePicker__day--firstOfMonth\"]')\n",
    "date=[date.get_attribute(\"data-day\") for date in date_next]\n",
    "for first in first_day:\n",
    "    date.append(first.get_attribute(\"data-day\"))\n",
    "for last in last_day:\n",
    "    date.append(last.get_attribute(\"data-day\"))\n",
    "sleep(5)\n",
    "indice1=date.index(temps_weeks_jour)   #à voir\n",
    "if indice1==len(date)-1:\n",
    "    last_day.click()\n",
    "elif indice1==len(date)-2:\n",
    "    first_day.click()\n",
    "else:\n",
    "    date_next[indice1].click()\n",
    "sleep(5)\n",
    "time[indice].click()\n",
    "rechercher=driver.find_element_by_xpath('//*[@class=\"cobalt-Button cobalt-Button--primary js_search_form_submit\"]').click()\n",
    "#offers=driver.find_elements_by_xpath('//*[@class=\"car_card_revamp js_picks_car_card\"]')"
   ]
  },
  {
   "cell_type": "code",
   "execution_count": 17,
   "metadata": {},
   "outputs": [
    {
     "data": {
      "text/plain": [
       "55"
      ]
     },
     "execution_count": 17,
     "metadata": {},
     "output_type": "execute_result"
    }
   ],
   "source": [
    "len(date_next)"
   ]
  },
  {
   "cell_type": "code",
   "execution_count": 15,
   "metadata": {},
   "outputs": [
    {
     "data": {
      "text/plain": [
       "55"
      ]
     },
     "execution_count": 15,
     "metadata": {},
     "output_type": "execute_result"
    }
   ],
   "source": [
    "<div class=\"cobalt-CalendarRangePicker__day cobalt-CalendarRangePicker__day--range cobalt-CalendarRangePicker__day--selected\" data-day=\"2021-08-04\"><div class=\"cobalt-CalendarRangePicker__day-inner\">4</div></div>"
   ]
  },
  {
   "cell_type": "code",
   "execution_count": 24,
   "metadata": {},
   "outputs": [
    {
     "data": {
      "text/plain": [
       "['GETAROUND CONNECT',\n",
       " 'GETAROUND CONNECT',\n",
       " 'GETAROUND CONNECT',\n",
       " 'GETAROUND CONNECT',\n",
       " 'GETAROUND CONNECT',\n",
       " 'GETAROUND CONNECT',\n",
       " 'GETAROUND CONNECT',\n",
       " 'GETAROUND CONNECT',\n",
       " 'GETAROUND CONNECT',\n",
       " 'GETAROUND CONNECT',\n",
       " 'GETAROUND CONNECT',\n",
       " 'GETAROUND CONNECT',\n",
       " 'GETAROUND CONNECT',\n",
       " 'GETAROUND CONNECT',\n",
       " 'GETAROUND CONNECT',\n",
       " 'GETAROUND CONNECT',\n",
       " 'GETAROUND CONNECT',\n",
       " 'GETAROUND CONNECT',\n",
       " 'GETAROUND CONNECT']"
      ]
     },
     "execution_count": 24,
     "metadata": {},
     "output_type": "execute_result"
    }
   ],
   "source": [
    "for offer in offers:\n",
    "                sleep(3)\n",
    "                offer.click()\n",
    "                sleep(5)\n",
    "                nom=driver.find_element_by_xpath('//*[@class=\"car_info_header__title js_car_name\"]')\n",
    "                distance=driver.find_element_by_xpath('//*[@class=\"car_info_header__attributes\"]')\n",
    "                prix=driver.find_element_by_xpath('//*[@class=\"js_price_value\"]')\n",
    "                recuperation=driver.find_element_by_xpath('//*[@class=\"cobalt-text-titleSmall\"]')\n",
    "                voiture={}\n",
    "                voiture['ville']=ville[i]\n",
    "                voiture['nom']=nom.text\n",
    "                voiture['prix']=prix.text\n",
    "                voiture['distance']=distance.text[:-13]\n",
    "                voiture['recuperation']=recuperation.text\n",
    "                liste.append(voiture)\n",
    "                driver.find_element_by_xpath('//*[@class=\"side_panel_close_button js_preview_panel_close hidden-xs\"]').click()\n",
    "                sleep(2)\n"
   ]
  },
  {
   "cell_type": "code",
   "execution_count": 11,
   "metadata": {},
   "outputs": [],
   "source": [
    "import time\n",
    "from datetime import datetime,timedelta\n",
    "date=str(datetime.now())"
   ]
  },
  {
   "cell_type": "code",
   "execution_count": 13,
   "metadata": {},
   "outputs": [
    {
     "data": {
      "text/plain": [
       "'2021-08-03'"
      ]
     },
     "execution_count": 13,
     "metadata": {},
     "output_type": "execute_result"
    }
   ],
   "source": []
  },
  {
   "cell_type": "code",
   "execution_count": 105,
   "metadata": {},
   "outputs": [
    {
     "data": {
      "text/plain": [
       "[1, 2, 3, 4, 5, 9]"
      ]
     },
     "execution_count": 105,
     "metadata": {},
     "output_type": "execute_result"
    }
   ],
   "source": [
    "V=[[1,2,3],[4,5],[9]]\n",
    "w=[]\n",
    "for v in V:\n",
    "    for i in range(len(v)):\n",
    "        w.append(v[i])\n",
    "w"
   ]
  },
  {
   "cell_type": "code",
   "execution_count": 145,
   "metadata": {},
   "outputs": [
    {
     "data": {
      "text/plain": [
       "True"
      ]
     },
     "execution_count": 145,
     "metadata": {},
     "output_type": "execute_result"
    }
   ],
   "source": [
    "1 in w"
   ]
  },
  {
   "cell_type": "code",
   "execution_count": 64,
   "metadata": {},
   "outputs": [
    {
     "data": {
      "text/plain": [
       "15"
      ]
     },
     "execution_count": 64,
     "metadata": {},
     "output_type": "execute_result"
    }
   ],
   "source": [
    "int(date[11:13])+1"
   ]
  },
  {
   "cell_type": "code",
   "execution_count": 85,
   "metadata": {},
   "outputs": [],
   "source": [
    "myDateTime1 = datetime(2014, 10, 27)\n",
    "myDateTime2 = datetime(2014, 10, 23)\n",
    "td = myDateTime2 - myDateTime1\n"
   ]
  },
  {
   "cell_type": "code",
   "execution_count": 36,
   "metadata": {},
   "outputs": [
    {
     "data": {
      "text/plain": [
       "datetime.timedelta(days=14)"
      ]
     },
     "execution_count": 36,
     "metadata": {},
     "output_type": "execute_result"
    }
   ],
   "source": [
    "td"
   ]
  },
  {
   "cell_type": "code",
   "execution_count": 86,
   "metadata": {},
   "outputs": [],
   "source": [
    "t=timedelta(days=14)\n",
    "myDateTime2=myDateTime1+t"
   ]
  },
  {
   "cell_type": "code",
   "execution_count": 156,
   "metadata": {},
   "outputs": [
    {
     "data": {
      "text/plain": [
       "'10'"
      ]
     },
     "execution_count": 156,
     "metadata": {},
     "output_type": "execute_result"
    }
   ],
   "source": [
    "str(myDateTime2)[8:10]"
   ]
  },
  {
   "cell_type": "code",
   "execution_count": 52,
   "metadata": {},
   "outputs": [
    {
     "data": {
      "text/plain": [
       "'2021-08-10'"
      ]
     },
     "execution_count": 52,
     "metadata": {},
     "output_type": "execute_result"
    }
   ],
   "source": [
    "str(datetime.now()+t)[:10]"
   ]
  }
 ],
 "metadata": {
  "kernelspec": {
   "display_name": "Python 3",
   "language": "python",
   "name": "python3"
  },
  "language_info": {
   "codemirror_mode": {
    "name": "ipython",
    "version": 3
   },
   "file_extension": ".py",
   "mimetype": "text/x-python",
   "name": "python",
   "nbconvert_exporter": "python",
   "pygments_lexer": "ipython3",
   "version": "3.7.4"
  }
 },
 "nbformat": 4,
 "nbformat_minor": 2
}
